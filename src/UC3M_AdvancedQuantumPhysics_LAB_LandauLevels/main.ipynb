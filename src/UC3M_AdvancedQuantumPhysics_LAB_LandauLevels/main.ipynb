{
 "cells": [
  {
   "cell_type": "markdown",
   "metadata": {},
   "source": [
    "## 4.1 Landau level wave functions and probability density (square of the ewave function)"
   ]
  },
  {
   "cell_type": "code",
   "execution_count": 9,
   "metadata": {},
   "outputs": [],
   "source": [
    "import numpy as np\n",
    "import matplotlib.pyplot as plt\n",
    "import math\n",
    "from typing import Callable"
   ]
  },
  {
   "cell_type": "markdown",
   "metadata": {},
   "source": [
    "1. Write a ...."
   ]
  },
  {
   "cell_type": "code",
   "execution_count": 10,
   "metadata": {},
   "outputs": [],
   "source": [
    "wc = 0\n",
    "m = 0\n",
    "hbar = 1\n",
    "\n",
    "beta = m * wc / hbar  # TODO: From where do we take these values?\n",
    "\n",
    "\n",
    "def exponential(zeta: float) -> float:\n",
    "    return math.exp(- (zeta ** 2) / (2 * beta))\n",
    "\n",
    "\n",
    "# zeta = beta * x\n",
