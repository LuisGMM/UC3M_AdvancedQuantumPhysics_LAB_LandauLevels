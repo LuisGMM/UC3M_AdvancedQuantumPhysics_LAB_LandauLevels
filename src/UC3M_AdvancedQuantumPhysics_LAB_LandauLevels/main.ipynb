{
 "cells": [
  {
   "cell_type": "markdown",
   "metadata": {},
   "source": [
    "## 4.1 Landau level wave functions and probability density (square of the ewave function)"
   ]
  },
  {
   "cell_type": "code",
   "execution_count": 2,
   "metadata": {},
   "outputs": [],
   "source": [
    "import numpy as np\n",
    "import matplotlib.pyplot as plt\n",
    "import math\n",
    "from typing import Callable"
   ]
  },
  {
   "cell_type": "markdown",
   "metadata": {},
   "source": [
    "1. Write a ...."
   ]
  },
  {
   "cell_type": "code",
   "execution_count": 24,
   "metadata": {},
   "outputs": [],
   "source": [
    "hbar = 6.582e-16\n",
    "e = 1.6e-19\n",
    "\n",
    "B = 10  # Arbitrary value\n",
    "# B = hbar / e  # Arbitrary value\n",
    "\n",
    "m = 9.1e-31\n",
    "wc = e * B / m\n",
    "\n",
    "beta = m * wc / hbar  # TODO: From where do we take these values?\n",
    "\n",
    "\n",
    "def exponential(zeta: float) -> float:\n",
    "    return math.exp(- (zeta ** 2) / (2 * beta))\n",
    "\n",
    "\n",
    "# zeta = beta * x\n",
    "def wave_function0(zeta: float) -> float:\n",
    "    return math.pow(beta / math.pi, 0.25) * exponential(zeta) \n",
    "\n",
    "\n",
    "# zeta = beta * x\n",
    "def wave_function1(zeta: float) -> float:\n",
    "    return math.pow(4 / (math.pi * beta), 0.25) * exponential(zeta) * zeta\n",
    "\n",
    "x_ = np.arange(-200, 200, 1)\n",
    "\n",
    "def zeta(x):\n",
    "    return beta * x\n",
    "\n",
    "\n",
    "wave_array = np.zeros((100, len(x_)))\n",
    "\n",
    "wave_array[0] = np.array((wave_function0(zeta(xi)) for xi in x_))\n",
    "wave_array[1] = np.array((wave_function1(zeta(xi)) for xi in x_))\n",
    "\n",
    "for n in range(2, 100):\n",
    "    wave_array[n] = math.sqrt(2 / n) * (zeta(x_) * wave_array[n-1] - math.sqrt((n - 1) / 2) * wave_array[n-2])\n"
   ]
  }
 ],
 "metadata": {
  "kernelspec": {
   "display_name": "Python 3.10.4 ('venv': venv)",
   "language": "python",
   "name": "python3"
  },
  "language_info": {
   "codemirror_mode": {
    "name": "ipython",
    "version": 3
   },
   "file_extension": ".py",
   "mimetype": "text/x-python",
   "name": "python",
   "nbconvert_exporter": "python",
   "pygments_lexer": "ipython3",
   "version": "3.10.4"
  },
  "orig_nbformat": 4,
  "vscode": {
   "interpreter": {
    "hash": "3e9b03bf34520a82159f28e207a17dab9f0ff2a786e1e6f5a753f12430c09d9b"
   }
  }
 },
 "nbformat": 4,
 "nbformat_minor": 2
}
