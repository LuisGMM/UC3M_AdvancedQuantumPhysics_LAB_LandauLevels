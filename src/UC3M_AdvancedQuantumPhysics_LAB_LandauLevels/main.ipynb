{
 "cells": [
  {
   "cell_type": "markdown",
   "metadata": {},
   "source": [
    "## 4.1 Landau level wave functions and probability density (square of the ewave function)"
   ]
  },
  {
   "cell_type": "code",
   "execution_count": 9,
   "metadata": {},
   "outputs": [],
   "source": [
    "import numpy as np\n",
    "import matplotlib.pyplot as plt\n",
    "import math\n",
    "from typing import Callable"
   ]
  },
  {
   "cell_type": "markdown",
   "metadata": {},
   "source": [
    "1. Write a ...."
   ]
  },
  {
   "cell_type": "code",
   "execution_count": 10,
   "metadata": {},
   "outputs": [],
   "source": [
    "wc = 0\n",
    "m = 0\n",
    "hbar = 1\n",
    "\n",
    "beta = m * wc / hbar  # TODO: From where do we take these values?\n",
    "\n",
    "\n",
    "def exponential(zeta: float) -> float:\n",
    "    return math.exp(- (zeta ** 2) / (2 * beta))\n",
    "\n",
    "\n",
    "# zeta = beta * x\n",
    "def wave_function0(zeta: float) -> float:\n",
    "    return math.pow(beta / math.pi, 0.25) * exponential(zeta) \n",
    "\n",
    "\n",
    "# zeta = beta * x\n",
    "def wave_function1(zeta: float) -> float:\n",
    "    return math.pow(4 / (math.pi * beta ** 2), 0.25) * exponential(zeta) * zeta\n"
   ]
  },
  {
   "cell_type": "code",
   "execution_count": 11,
   "metadata": {},
   "outputs": [],
   "source": [
    "cache = {0: wave_function0, 1: wave_function1}\n",
    "\n",
    "def wave_function(n, zeta) -> Callable[[float], float]:\n",
    "\n",
    "    if cache.get(n, None) is not None:\n",
    "        return cache.get(n)(zeta)\n",
    "\n",
    "    cache[n] = lambda zeta_: math.sqrt(2 / n) * (zeta_ * wave_function(n-1, zeta_) -  math.sqrt((n - 1) / 2) * wave_function(n-2, zeta_))\n",
    "\n",
    "    return cache[n](zeta)"
   ]
  },
  {
   "cell_type": "code",
   "execution_count": null,
   "metadata": {},
   "outputs": [],
   "source": [
    "x_ = np.arange(-200, 200, 0.1)\n",
    "\n",
    "def zeta(x):\n",
    "    return beta * x\n",
    "\n",
    "\n",
    "plt.plot(x_, tuple(wave_function(18, zeta(xi)) for xi in x_), label=f'Stuff 18')\n",
    "plt.plot(x_, tuple(wave_function(50, zeta(xi)) for xi in x_), label=f'Stuff 50')\n",
    "plt.plot(x_, tuple(wave_function(100, zeta(xi)) for xi in x_), label=f'Stuff 100')\n",
    "plt.legend()\n",
    "plt.show()"
   ]
  }
 ],
 "metadata": {
  "kernelspec": {
   "display_name": "Python 3.10.4 ('venv': venv)",
   "language": "python",
   "name": "python3"
  },
  "language_info": {
   "codemirror_mode": {
    "name": "ipython",
    "version": 3
   },
   "file_extension": ".py",
   "mimetype": "text/x-python",
   "name": "python",
